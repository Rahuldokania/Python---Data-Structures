{
 "cells": [
  {
   "cell_type": "markdown",
   "metadata": {},
   "source": [
    "# LISTS \n",
    "These can have heterogeneous datatypes.\n",
    "These are mutable (values inside list can be modified)"
   ]
  },
  {
   "cell_type": "code",
   "execution_count": 1,
   "metadata": {},
   "outputs": [],
   "source": [
    "#create a list\n",
    "list1 = []"
   ]
  },
  {
   "cell_type": "code",
   "execution_count": 2,
   "metadata": {},
   "outputs": [
    {
     "name": "stdout",
     "output_type": "stream",
     "text": [
      "[1, 2, 3, 'Hi']\n"
     ]
    }
   ],
   "source": [
    "#add elements to list1\n",
    "list1 = [1,2,3,'Hi']\n",
    "print(list1)"
   ]
  },
  {
   "cell_type": "code",
   "execution_count": 3,
   "metadata": {},
   "outputs": [
    {
     "name": "stdout",
     "output_type": "stream",
     "text": [
      "[1, 2, 3, 'Hi', 5]\n"
     ]
    }
   ],
   "source": [
    "#list functions to add element/s\n",
    "#append()  \n",
    "list1.append(5)\n",
    "print(list1)"
   ]
  },
  {
   "cell_type": "code",
   "execution_count": 4,
   "metadata": {},
   "outputs": [
    {
     "name": "stdout",
     "output_type": "stream",
     "text": [
      "[1, 2, 3, 'Hi', 5, 'how', 3, 4, 5]\n"
     ]
    }
   ],
   "source": [
    "#extend() for multiple elements\n",
    "list1.extend(('how',3,4,5))\n",
    "print(list1)"
   ]
  },
  {
   "cell_type": "code",
   "execution_count": 5,
   "metadata": {},
   "outputs": [
    {
     "name": "stdout",
     "output_type": "stream",
     "text": [
      "[1, 2, 3, 7, 'Hi', 5, 'how', 3, 4, 5]\n"
     ]
    }
   ],
   "source": [
    "#insert(index,value) for a paticular position by giving index value\n",
    "#index starts with 0\n",
    "list1.insert(3,7)\n",
    "print(list1)"
   ]
  },
  {
   "cell_type": "code",
   "execution_count": 6,
   "metadata": {},
   "outputs": [
    {
     "name": "stdout",
     "output_type": "stream",
     "text": [
      "[1, 2, 3, 'Hi', 5, 'how', 3, 4, 5]\n"
     ]
    }
   ],
   "source": [
    "#list functions to delete element/s\n",
    "# del  keyword by giving index value\n",
    "\n",
    "del list1[3]\n",
    "print(list1)"
   ]
  },
  {
   "cell_type": "code",
   "execution_count": 8,
   "metadata": {},
   "outputs": [
    {
     "name": "stdout",
     "output_type": "stream",
     "text": [
      "[1, 2, 3, 'Hi', 3, 4, 5]\n",
      "popped element:  how\n"
     ]
    }
   ],
   "source": [
    "#pop(index) returns the popped element\n",
    "\n",
    "a = list1.pop(4)\n",
    "print(list1)\n",
    "print('popped element: ',a)"
   ]
  },
  {
   "cell_type": "code",
   "execution_count": 9,
   "metadata": {},
   "outputs": [
    {
     "name": "stdout",
     "output_type": "stream",
     "text": [
      "[1, 2, 3, 'Hi', 3, 4]\n"
     ]
    }
   ],
   "source": [
    "#remove by giving element value\n",
    "list1.remove(5)\n",
    "print(list1)"
   ]
  },
  {
   "cell_type": "code",
   "execution_count": 12,
   "metadata": {},
   "outputs": [
    {
     "name": "stdout",
     "output_type": "stream",
     "text": [
      "[2, 3, 'Hi']\n",
      "[1, 3, 3]\n",
      "[4, 3, 'Hi', 3, 2, 1]\n"
     ]
    }
   ],
   "source": [
    "#access \n",
    "#between two indexes\n",
    "print(list1[1:4])\n",
    "#between two indexes also skipping\n",
    "print(list1[0:5:2])\n",
    "#in reverse order\n",
    "print(list1[::-1])"
   ]
  }
 ],
 "metadata": {
  "kernelspec": {
   "display_name": "Python 3",
   "language": "python",
   "name": "python3"
  },
  "language_info": {
   "codemirror_mode": {
    "name": "ipython",
    "version": 3
   },
   "file_extension": ".py",
   "mimetype": "text/x-python",
   "name": "python",
   "nbconvert_exporter": "python",
   "pygments_lexer": "ipython3",
   "version": "3.7.3"
  }
 },
 "nbformat": 4,
 "nbformat_minor": 2
}
